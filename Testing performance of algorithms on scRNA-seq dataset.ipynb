{
 "cells": [
  {
   "cell_type": "markdown",
   "metadata": {},
   "source": [
    "## Loading the data and the libraries"
   ]
  },
  {
   "cell_type": "code",
   "execution_count": 1,
   "metadata": {},
   "outputs": [
    {
     "name": "stdout",
     "output_type": "stream",
     "text": [
      "C:\\Users\\ninkh\n"
     ]
    }
   ],
   "source": [
    "import os\n",
    "print(os.getcwd())\n",
    "os.chdir('./Documents/CSAI/Research Workshop/data from the main article') #fill the correct path in here"
   ]
  },
  {
   "cell_type": "code",
   "execution_count": 2,
   "metadata": {
    "scrolled": true
   },
   "outputs": [
    {
     "name": "stdout",
     "output_type": "stream",
     "text": [
      "C:\\Users\\ninkh\\Documents\\CSAI\\Research Workshop\\data from the main article\n"
     ]
    }
   ],
   "source": [
    "print(os.getcwd()) #this prints your new working directory just to be sure"
   ]
  },
  {
   "cell_type": "code",
   "execution_count": 3,
   "metadata": {},
   "outputs": [],
   "source": [
    "from datetime import datetime\n",
    "import pandas as pd\n",
    "import numpy as np\n",
    "import mglearn\n",
    "import seaborn as sns\n",
    "import matplotlib.pylab as plt\n",
    "from sklearn.model_selection import train_test_split, GridSearchCV\n",
    "from sklearn.linear_model import LogisticRegression\n",
    "from sklearn.neighbors import KNeighborsClassifier\n",
    "from sklearn.ensemble import RandomForestClassifier, GradientBoostingClassifier\n",
    "from sklearn.svm import SVC, LinearSVC\n",
    "from sklearn.metrics import f1_score, precision_score, recall_score, confusion_matrix"
   ]
  },
  {
   "cell_type": "code",
   "execution_count": 4,
   "metadata": {},
   "outputs": [],
   "source": [
    "dataAMB = pd.read_csv(\"./integrated16.csv\")\n",
    "labelsAMB = pd.read_csv(\"./Labels16.csv\")"
   ]
  },
  {
   "cell_type": "markdown",
   "metadata": {},
   "source": [
    "## Inspecting the data"
   ]
  },
  {
   "cell_type": "code",
   "execution_count": 5,
   "metadata": {},
   "outputs": [
    {
     "name": "stdout",
     "output_type": "stream",
     "text": [
      "<class 'pandas.core.frame.DataFrame'> (2000, 1299)\n",
      "<class 'pandas.core.frame.DataFrame'> (1298, 2)\n",
      "     Unnamed: 0        X0        X1        X2        X3        X4        X5  \\\n",
      "0         Crhbp  0.044740  0.018913  0.002178  0.026894  0.887822  0.017641   \n",
      "1           Npy  0.285523  0.515677  0.009491  0.109614  3.871232  0.080129   \n",
      "2          Tac2  4.042708  3.856012  0.000040  0.045940  4.023202  0.003705   \n",
      "3           Sst  1.553474 -0.039122  0.004313  1.660023  1.571740  1.475266   \n",
      "4          Penk  2.752344  0.321618  0.002327  3.352981  0.207314  0.262003   \n",
      "...         ...       ...       ...       ...       ...       ...       ...   \n",
      "1995    Olfr653  0.000000  0.000000  0.000000  0.000000  0.000000  0.000000   \n",
      "1996        Cd6  0.000041  0.000000  0.000057  0.000063  0.000000  0.057634   \n",
      "1997     Sphkap  0.020487  0.034654  0.818970  1.187780  0.624451  1.662279   \n",
      "1998    Gucy1a2  0.101706  1.328464  0.858349  0.387203  0.174547  1.657084   \n",
      "1999        Erg  0.000113  0.001322  0.013302  0.005179  0.008424  0.009950   \n",
      "\n",
      "            X6        X7        X8  ...     X1288     X1289     X1290  \\\n",
      "0     0.022675 -0.001578  0.000918  ...  0.007375 -0.003238  0.000516   \n",
      "1     0.111545 -0.002811  0.024681  ... -0.005577 -0.005667 -0.002680   \n",
      "2     0.002861  0.001812  0.002964  ... -0.000200  0.003677  0.011276   \n",
      "3     1.701178 -0.120710  0.982544  ... -0.004610 -0.081878 -0.001570   \n",
      "4     0.066004  0.211768  0.061685  ...  0.002592  0.007446  0.001611   \n",
      "...        ...       ...       ...  ...       ...       ...       ...   \n",
      "1995  0.000000  0.000000  0.000000  ...  0.000000  0.000000  0.000000   \n",
      "1996  0.008551  0.126884  0.428503  ...  0.093415  0.061272  0.096054   \n",
      "1997  0.564049  1.679048  0.505890  ...  0.341605  0.028048  0.104659   \n",
      "1998  2.110164  1.253407  1.419181  ...  0.902853  0.287382  0.373093   \n",
      "1999  0.001660  0.035990  0.000609  ...  0.000471  0.002185  0.000781   \n",
      "\n",
      "         X1291     X1292     X1293     X1294     X1295     X1296     X1297  \n",
      "0     0.000006 -0.000076 -0.000613 -0.023879 -0.023844  0.014545 -0.060198  \n",
      "1     0.006130  0.000095 -0.002746  0.006964  0.009970  0.075524  0.013726  \n",
      "2     0.000000  0.017867  0.012979  0.018089  0.010376  0.001285  0.010572  \n",
      "3     0.007869 -0.007236 -0.018075 -0.013139 -0.015876  0.889351 -0.023101  \n",
      "4     0.002298  0.026795  0.025212  0.166167  0.735029  0.002621  1.660422  \n",
      "...        ...       ...       ...       ...       ...       ...       ...  \n",
      "1995  0.000000  0.000000  0.000000  0.000000  0.000000 -0.000147  0.000000  \n",
      "1996  0.003236  0.082866  0.077821 -0.016980  0.031839  0.058055  0.059380  \n",
      "1997  0.794050  0.023504  0.092332  0.057350 -0.066146  1.113126  0.986383  \n",
      "1998  0.217318  0.511586  0.439600  0.466680  0.480925  0.962754  1.249576  \n",
      "1999  0.238095  0.010633  0.004489 -0.000146  0.001084  0.046345  0.002198  \n",
      "\n",
      "[2000 rows x 1299 columns]\n",
      "                     Class     cluster\n",
      "0        GABA-ergic Neuron  Vip Mybpc1\n",
      "1        GABA-ergic Neuron   Vip Parm1\n",
      "2     Glutamatergic Neuron    L4 Ctxn3\n",
      "3        GABA-ergic Neuron    Vip Chat\n",
      "4        GABA-ergic Neuron   Vip Parm1\n",
      "...                    ...         ...\n",
      "1293  Glutamatergic Neuron     L6a Sla\n",
      "1294  Glutamatergic Neuron   L6a Syt17\n",
      "1295  Glutamatergic Neuron   L6a Car12\n",
      "1296  Glutamatergic Neuron   L5a Batf3\n",
      "1297  Glutamatergic Neuron   L6a Car12\n",
      "\n",
      "[1298 rows x 2 columns]\n"
     ]
    }
   ],
   "source": [
    "print(type(dataAMB), dataAMB.shape)\n",
    "print(type(labelsAMB), labelsAMB.shape)\n",
    "print(dataAMB)\n",
    "print(labelsAMB)"
   ]
  },
  {
   "cell_type": "markdown",
   "metadata": {},
   "source": [
    "## Preprocessing the data"
   ]
  },
  {
   "cell_type": "code",
   "execution_count": 7,
   "metadata": {},
   "outputs": [
    {
     "name": "stdout",
     "output_type": "stream",
     "text": [
      "(1299, 2000)\n",
      "(1298, 2000) <class 'numpy.ndarray'>\n",
      "(1298,)\n",
      "['Vip Mybpc1' 'Vip Parm1' 'L4 Ctxn3' ... 'L6a Car12' 'L5a Batf3'\n",
      " 'L6a Car12']\n"
     ]
    }
   ],
   "source": [
    "Xa = np.transpose(dataAMB)\n",
    "print(Xa.shape)\n",
    "Xa = np.array(Xa[1:])\n",
    "print(Xa.shape, type(Xa))\n",
    "ya = np.array(labelsAMB[\"cluster\"])\n",
    "print(ya.shape)\n",
    "print(ya)"
   ]
  },
  {
   "cell_type": "code",
   "execution_count": 9,
   "metadata": {},
   "outputs": [
    {
     "name": "stdout",
     "output_type": "stream",
     "text": [
      "AMB splitted.\n",
      "Training set: (1038, 2000) (1038,)\n",
      "Test set: (260, 2000) (260,)\n"
     ]
    }
   ],
   "source": [
    "Xa_train, Xa_test, ya_train, ya_test = train_test_split(Xa, ya, train_size = 0.8)\n",
    "print(\"AMB splitted.\")\n",
    "print(\"Training set:\",Xa_train.shape, ya_train.shape)\n",
    "print(\"Test set:\",Xa_test.shape, ya_test.shape)"
   ]
  },
  {
   "cell_type": "markdown",
   "metadata": {},
   "source": [
    "## Fitting models into the AMB dataset"
   ]
  },
  {
   "cell_type": "markdown",
   "metadata": {},
   "source": [
    "#### Creating datastructures in order to fit and measure the performance systematically:"
   ]
  },
  {
   "cell_type": "code",
   "execution_count": 11,
   "metadata": {},
   "outputs": [
    {
     "name": "stdout",
     "output_type": "stream",
     "text": [
      "model :\n",
      "hyperparameters to be used for tuning \n",
      "\n",
      "Logistic Regression :\n",
      "{'C': [0.001, 0.01, 0.1, 1, 10, 100]} \n",
      "\n",
      "kNNeighbor :\n",
      "{'n_neighbors': [1, 2, 3, 4, 5, 6, 7, 8, 9]} \n",
      "\n",
      "SVC :\n",
      "{'kernel': ['linear', 'rbf', 'poly'], 'C': [0.01, 1, 10, 100]} \n",
      "\n",
      "LinearSVC :\n",
      "{'multi_class': ['crammer_singer', 'ovr'], 'C': [0.01, 1, 10, 100]} \n",
      "\n",
      "Random Forest :\n",
      "{'n_estimators': [50, 100, 150, 300], 'max_depth': [1, 3, 6, 9]} \n",
      "\n",
      "Gradient Boosting :\n",
      "{'n_estimators': [1, 2, 3, 5], 'learning_rate': [0.05, 0.1, 0.15, 0.3]} \n",
      "\n"
     ]
    }
   ],
   "source": [
    "#a list of model objects to be fit and measured:\n",
    "models = [LogisticRegression(max_iter = 100000),\n",
    "          KNeighborsClassifier(), \n",
    "          SVC(tol=0.00001),\n",
    "          LinearSVC(max_iter = 100000), \n",
    "          RandomForestClassifier(),\n",
    "          GradientBoostingClassifier() ]\n",
    "\n",
    "#a list of string names of these models in order to not overload the storing process:\n",
    "model_names = [\"Logistic Regression\", \"kNNeighbor\", \"SVC\", \"LinearSVC\", \\\n",
    "          \"Random Forest\", \"Gradient Boosting\"]\n",
    "\n",
    "#a list of dictionaries with hyperparameters for respective models:\n",
    "param_grid_all = []\n",
    "param_grid_all.append({\"C\":[0.001, 0.01, 0.1, 1, 10, 100]})\n",
    "param_grid_all.append({\"n_neighbors\": list(range(1,10))})\n",
    "param_grid_all.append({\"kernel\":[\"linear\",\"rbf\",\"poly\"],\n",
    "                   \"C\":[0.01, 1, 10, 100]})\n",
    "param_grid_all.append({\"multi_class\":['crammer_singer','ovr'],\n",
    "                   \"C\":[0.01, 1, 10, 100]})\n",
    "param_grid_all.append({\"n_estimators\":[50, 100, 150, 300], \n",
    "                   \"max_depth\":[1, 3, 6, 9]})\n",
    "param_grid_all.append({\"n_estimators\":[1, 2, 3, 5],\n",
    "                   \"learning_rate\":[0.05, 0.1, 0.15, 0.3]})\n",
    "\n",
    "#empty arrays to store the results:\n",
    "results = {} #create a datastructure storing the metrics of the models\n",
    "training = [] #create a datastrucgture storing the computation times for training\n",
    "testing = [] #this one will store the testing times\n",
    "\n",
    "print(\"model :\",\"hyperparameters to be used for tuning \\n\",sep = \"\\n\")\n",
    "for i in range(len(model_names)):\n",
    "    print(model_names[i], \":\")\n",
    "    print(param_grid_all[i],\"\\n\")"
   ]
  },
  {
   "cell_type": "markdown",
   "metadata": {},
   "source": [
    "#### Fitting models, measuring performance and recording results:"
   ]
  },
  {
   "cell_type": "code",
   "execution_count": 12,
   "metadata": {
    "scrolled": false
   },
   "outputs": [
    {
     "name": "stderr",
     "output_type": "stream",
     "text": [
      "C:\\Users\\ninkh\\anaconda3\\lib\\site-packages\\sklearn\\svm\\_base.py:976: ConvergenceWarning: Liblinear failed to converge, increase the number of iterations.\n",
      "  warnings.warn(\"Liblinear failed to converge, increase \"\n",
      "C:\\Users\\ninkh\\anaconda3\\lib\\site-packages\\sklearn\\svm\\_base.py:976: ConvergenceWarning: Liblinear failed to converge, increase the number of iterations.\n",
      "  warnings.warn(\"Liblinear failed to converge, increase \"\n",
      "C:\\Users\\ninkh\\anaconda3\\lib\\site-packages\\sklearn\\svm\\_base.py:976: ConvergenceWarning: Liblinear failed to converge, increase the number of iterations.\n",
      "  warnings.warn(\"Liblinear failed to converge, increase \"\n",
      "C:\\Users\\ninkh\\anaconda3\\lib\\site-packages\\sklearn\\svm\\_base.py:976: ConvergenceWarning: Liblinear failed to converge, increase the number of iterations.\n",
      "  warnings.warn(\"Liblinear failed to converge, increase \"\n",
      "C:\\Users\\ninkh\\anaconda3\\lib\\site-packages\\sklearn\\svm\\_base.py:976: ConvergenceWarning: Liblinear failed to converge, increase the number of iterations.\n",
      "  warnings.warn(\"Liblinear failed to converge, increase \"\n",
      "C:\\Users\\ninkh\\anaconda3\\lib\\site-packages\\sklearn\\svm\\_base.py:976: ConvergenceWarning: Liblinear failed to converge, increase the number of iterations.\n",
      "  warnings.warn(\"Liblinear failed to converge, increase \"\n",
      "C:\\Users\\ninkh\\anaconda3\\lib\\site-packages\\sklearn\\svm\\_base.py:976: ConvergenceWarning: Liblinear failed to converge, increase the number of iterations.\n",
      "  warnings.warn(\"Liblinear failed to converge, increase \"\n",
      "C:\\Users\\ninkh\\anaconda3\\lib\\site-packages\\sklearn\\svm\\_base.py:976: ConvergenceWarning: Liblinear failed to converge, increase the number of iterations.\n",
      "  warnings.warn(\"Liblinear failed to converge, increase \"\n",
      "C:\\Users\\ninkh\\anaconda3\\lib\\site-packages\\sklearn\\svm\\_base.py:976: ConvergenceWarning: Liblinear failed to converge, increase the number of iterations.\n",
      "  warnings.warn(\"Liblinear failed to converge, increase \"\n",
      "C:\\Users\\ninkh\\anaconda3\\lib\\site-packages\\sklearn\\svm\\_base.py:976: ConvergenceWarning: Liblinear failed to converge, increase the number of iterations.\n",
      "  warnings.warn(\"Liblinear failed to converge, increase \"\n",
      "C:\\Users\\ninkh\\anaconda3\\lib\\site-packages\\sklearn\\svm\\_base.py:976: ConvergenceWarning: Liblinear failed to converge, increase the number of iterations.\n",
      "  warnings.warn(\"Liblinear failed to converge, increase \"\n",
      "C:\\Users\\ninkh\\anaconda3\\lib\\site-packages\\sklearn\\svm\\_base.py:976: ConvergenceWarning: Liblinear failed to converge, increase the number of iterations.\n",
      "  warnings.warn(\"Liblinear failed to converge, increase \"\n",
      "C:\\Users\\ninkh\\anaconda3\\lib\\site-packages\\sklearn\\svm\\_base.py:976: ConvergenceWarning: Liblinear failed to converge, increase the number of iterations.\n",
      "  warnings.warn(\"Liblinear failed to converge, increase \"\n",
      "C:\\Users\\ninkh\\anaconda3\\lib\\site-packages\\sklearn\\svm\\_base.py:976: ConvergenceWarning: Liblinear failed to converge, increase the number of iterations.\n",
      "  warnings.warn(\"Liblinear failed to converge, increase \"\n",
      "C:\\Users\\ninkh\\anaconda3\\lib\\site-packages\\sklearn\\svm\\_base.py:976: ConvergenceWarning: Liblinear failed to converge, increase the number of iterations.\n",
      "  warnings.warn(\"Liblinear failed to converge, increase \"\n",
      "C:\\Users\\ninkh\\anaconda3\\lib\\site-packages\\sklearn\\svm\\_base.py:976: ConvergenceWarning: Liblinear failed to converge, increase the number of iterations.\n",
      "  warnings.warn(\"Liblinear failed to converge, increase \"\n",
      "C:\\Users\\ninkh\\anaconda3\\lib\\site-packages\\sklearn\\svm\\_base.py:976: ConvergenceWarning: Liblinear failed to converge, increase the number of iterations.\n",
      "  warnings.warn(\"Liblinear failed to converge, increase \"\n",
      "C:\\Users\\ninkh\\anaconda3\\lib\\site-packages\\sklearn\\svm\\_base.py:976: ConvergenceWarning: Liblinear failed to converge, increase the number of iterations.\n",
      "  warnings.warn(\"Liblinear failed to converge, increase \"\n",
      "C:\\Users\\ninkh\\anaconda3\\lib\\site-packages\\sklearn\\svm\\_base.py:976: ConvergenceWarning: Liblinear failed to converge, increase the number of iterations.\n",
      "  warnings.warn(\"Liblinear failed to converge, increase \"\n",
      "C:\\Users\\ninkh\\anaconda3\\lib\\site-packages\\sklearn\\svm\\_base.py:976: ConvergenceWarning: Liblinear failed to converge, increase the number of iterations.\n",
      "  warnings.warn(\"Liblinear failed to converge, increase \"\n",
      "C:\\Users\\ninkh\\anaconda3\\lib\\site-packages\\sklearn\\svm\\_base.py:976: ConvergenceWarning: Liblinear failed to converge, increase the number of iterations.\n",
      "  warnings.warn(\"Liblinear failed to converge, increase \"\n",
      "C:\\Users\\ninkh\\anaconda3\\lib\\site-packages\\sklearn\\svm\\_base.py:976: ConvergenceWarning: Liblinear failed to converge, increase the number of iterations.\n",
      "  warnings.warn(\"Liblinear failed to converge, increase \"\n"
     ]
    }
   ],
   "source": [
    "for i in range(len(model_names)):\n",
    "\n",
    "    #creating the grid with hyperparameters:\n",
    "    gs = GridSearchCV(models[i], param_grid_all[i], cv = 5)\n",
    "\n",
    "    #tuning the hyperparameters:\n",
    "    gs.fit(Xa_train,ya_train) #fit the model with the best hyperparameters\n",
    "    \n",
    "    #measuring the training time:\n",
    "    start = datetime.now() #to measure how much it takes we record the start time\n",
    "    gs.best_estimator_.fit(Xa_train,ya_train)\n",
    "    end=datetime.now() #record the end time\n",
    "\n",
    "    #recording training time:\n",
    "    training.append((end-start).seconds+(end-start).microseconds/1000000) #in seconds\n",
    "\n",
    "    #testing and recording test time:\n",
    "    start = datetime.now() \n",
    "    score = gs.score(Xa_test,ya_test)\n",
    "    end=datetime.now() \n",
    "    testing.append((end-start).seconds+(end-start).microseconds/1000000) #in seconds\n",
    "\n",
    "    #recording metrics:\n",
    "    pred = gs.predict(Xa_test) #generate a vector of predicted labels\n",
    "    results[model_names[i]] = [gs.best_params_] #store the found hyperparameters\n",
    "    results[model_names[i]].append(f1_score(ya_test, pred, average = \"macro\")) #store the F1\n",
    "    results[model_names[i]].append(score) #add the accuracy to the datastructure storing the metrics\n",
    "    results[model_names[i]].append(precision_score(ya_test, pred, zero_division = 1, average = \"macro\")) #store precision\n",
    "    results[model_names[i]].append(recall_score(ya_test, pred, zero_division = 1, average = \"macro\")) #store recall\n",
    "    results[model_names[i]].append(confusion_matrix(ya_test, pred)) #store confusion matrix"
   ]
  },
  {
   "cell_type": "markdown",
   "metadata": {},
   "source": [
    "## Exploring and exporting results"
   ]
  },
  {
   "cell_type": "code",
   "execution_count": 13,
   "metadata": {},
   "outputs": [
    {
     "name": "stdout",
     "output_type": "stream",
     "text": [
      "Logistic Regression\n",
      "0.86\n",
      "0.92\n",
      "0.93\n",
      "0.87\n",
      "19.4\n",
      "0.02\n",
      "\n",
      "kNNeighbor\n",
      "0.77\n",
      "0.85\n",
      "0.9\n",
      "0.8\n",
      "0.3\n",
      "0.91\n",
      "\n",
      "SVC\n",
      "0.9\n",
      "0.93\n",
      "0.94\n",
      "0.91\n",
      "2.78\n",
      "0.71\n",
      "\n",
      "LinearSVC\n",
      "0.84\n",
      "0.91\n",
      "0.92\n",
      "0.86\n",
      "5.44\n",
      "0.0\n",
      "\n",
      "Random Forest\n",
      "0.84\n",
      "0.88\n",
      "0.89\n",
      "0.86\n",
      "8.76\n",
      "0.03\n",
      "\n",
      "Gradient Boosting\n",
      "0.72\n",
      "0.74\n",
      "0.81\n",
      "0.72\n",
      "93.73\n",
      "0.03\n",
      "\n"
     ]
    }
   ],
   "source": [
    "#look at the results:\n",
    "for i in range(len(model_names)):\n",
    "    print(model_names[i])\n",
    "    for j in range(1,len(results[model_names[i]])-1):\n",
    "        print(round(results[model_names[i]][j],2))\n",
    "    print(round(training[i],2))\n",
    "    print(round(testing[i],2))\n",
    "    print(\"\")"
   ]
  },
  {
   "cell_type": "code",
   "execution_count": 75,
   "metadata": {
    "scrolled": false
   },
   "outputs": [
    {
     "data": {
      "text/html": [
       "<div>\n",
       "<style scoped>\n",
       "    .dataframe tbody tr th:only-of-type {\n",
       "        vertical-align: middle;\n",
       "    }\n",
       "\n",
       "    .dataframe tbody tr th {\n",
       "        vertical-align: top;\n",
       "    }\n",
       "\n",
       "    .dataframe thead th {\n",
       "        text-align: right;\n",
       "    }\n",
       "</style>\n",
       "<table border=\"1\" class=\"dataframe\">\n",
       "  <thead>\n",
       "    <tr style=\"text-align: right;\">\n",
       "      <th></th>\n",
       "      <th>Logistic Regression</th>\n",
       "      <th>kNNeighbor</th>\n",
       "      <th>SVC</th>\n",
       "      <th>LinearSVC</th>\n",
       "      <th>Random Forest</th>\n",
       "      <th>Gradient Boosting</th>\n",
       "    </tr>\n",
       "  </thead>\n",
       "  <tbody>\n",
       "    <tr>\n",
       "      <th>Best hyperparameters</th>\n",
       "      <td>{'C': 1}</td>\n",
       "      <td>{'n_neighbors': 5}</td>\n",
       "      <td>{'C': 1, 'kernel': 'linear'}</td>\n",
       "      <td>{'C': 1, 'multi_class': 'crammer_singer'}</td>\n",
       "      <td>{'max_depth': 9, 'n_estimators': 300}</td>\n",
       "      <td>{'learning_rate': 0.3, 'n_estimators': 5}</td>\n",
       "    </tr>\n",
       "    <tr>\n",
       "      <th>F1</th>\n",
       "      <td>0.859663</td>\n",
       "      <td>0.767138</td>\n",
       "      <td>0.898965</td>\n",
       "      <td>0.843273</td>\n",
       "      <td>0.835025</td>\n",
       "      <td>0.716274</td>\n",
       "    </tr>\n",
       "    <tr>\n",
       "      <th>Accuracy</th>\n",
       "      <td>0.919231</td>\n",
       "      <td>0.853846</td>\n",
       "      <td>0.934615</td>\n",
       "      <td>0.907692</td>\n",
       "      <td>0.884615</td>\n",
       "      <td>0.742308</td>\n",
       "    </tr>\n",
       "    <tr>\n",
       "      <th>Precision</th>\n",
       "      <td>0.93041</td>\n",
       "      <td>0.898702</td>\n",
       "      <td>0.940194</td>\n",
       "      <td>0.915299</td>\n",
       "      <td>0.891077</td>\n",
       "      <td>0.807722</td>\n",
       "    </tr>\n",
       "    <tr>\n",
       "      <th>Recall</th>\n",
       "      <td>0.869977</td>\n",
       "      <td>0.798364</td>\n",
       "      <td>0.911208</td>\n",
       "      <td>0.859582</td>\n",
       "      <td>0.86114</td>\n",
       "      <td>0.724563</td>\n",
       "    </tr>\n",
       "    <tr>\n",
       "      <th>Confusion matrix</th>\n",
       "      <td>[[1, 0, 0, 0, 0, 0, 0, 0, 0, 0, 0, 0, 0, 0, 0,...</td>\n",
       "      <td>[[1, 0, 0, 0, 0, 0, 0, 0, 0, 0, 0, 0, 0, 0, 0,...</td>\n",
       "      <td>[[1, 0, 0, 0, 0, 0, 0, 0, 0, 0, 0, 0, 0, 0, 0,...</td>\n",
       "      <td>[[1, 0, 0, 0, 0, 0, 0, 0, 0, 0, 0, 0, 0, 0, 0,...</td>\n",
       "      <td>[[1, 0, 0, 0, 0, 0, 0, 0, 0, 0, 0, 0, 0, 0, 0,...</td>\n",
       "      <td>[[1, 0, 0, 0, 0, 0, 0, 0, 0, 0, 0, 0, 0, 0, 0,...</td>\n",
       "    </tr>\n",
       "    <tr>\n",
       "      <th>6</th>\n",
       "      <td>19.398</td>\n",
       "      <td>0.300141</td>\n",
       "      <td>2.78394</td>\n",
       "      <td>5.43603</td>\n",
       "      <td>8.75891</td>\n",
       "      <td>93.7314</td>\n",
       "    </tr>\n",
       "    <tr>\n",
       "      <th>7</th>\n",
       "      <td>0.015622</td>\n",
       "      <td>0.906267</td>\n",
       "      <td>0.711269</td>\n",
       "      <td>0</td>\n",
       "      <td>0.033361</td>\n",
       "      <td>0.031227</td>\n",
       "    </tr>\n",
       "  </tbody>\n",
       "</table>\n",
       "</div>"
      ],
      "text/plain": [
       "                                                    Logistic Regression  \\\n",
       "Best hyperparameters                                           {'C': 1}   \n",
       "F1                                                             0.859663   \n",
       "Accuracy                                                       0.919231   \n",
       "Precision                                                       0.93041   \n",
       "Recall                                                         0.869977   \n",
       "Confusion matrix      [[1, 0, 0, 0, 0, 0, 0, 0, 0, 0, 0, 0, 0, 0, 0,...   \n",
       "6                                                                19.398   \n",
       "7                                                              0.015622   \n",
       "\n",
       "                                                             kNNeighbor  \\\n",
       "Best hyperparameters                                 {'n_neighbors': 5}   \n",
       "F1                                                             0.767138   \n",
       "Accuracy                                                       0.853846   \n",
       "Precision                                                      0.898702   \n",
       "Recall                                                         0.798364   \n",
       "Confusion matrix      [[1, 0, 0, 0, 0, 0, 0, 0, 0, 0, 0, 0, 0, 0, 0,...   \n",
       "6                                                              0.300141   \n",
       "7                                                              0.906267   \n",
       "\n",
       "                                                                    SVC  \\\n",
       "Best hyperparameters                       {'C': 1, 'kernel': 'linear'}   \n",
       "F1                                                             0.898965   \n",
       "Accuracy                                                       0.934615   \n",
       "Precision                                                      0.940194   \n",
       "Recall                                                         0.911208   \n",
       "Confusion matrix      [[1, 0, 0, 0, 0, 0, 0, 0, 0, 0, 0, 0, 0, 0, 0,...   \n",
       "6                                                               2.78394   \n",
       "7                                                              0.711269   \n",
       "\n",
       "                                                              LinearSVC  \\\n",
       "Best hyperparameters          {'C': 1, 'multi_class': 'crammer_singer'}   \n",
       "F1                                                             0.843273   \n",
       "Accuracy                                                       0.907692   \n",
       "Precision                                                      0.915299   \n",
       "Recall                                                         0.859582   \n",
       "Confusion matrix      [[1, 0, 0, 0, 0, 0, 0, 0, 0, 0, 0, 0, 0, 0, 0,...   \n",
       "6                                                               5.43603   \n",
       "7                                                                     0   \n",
       "\n",
       "                                                          Random Forest  \\\n",
       "Best hyperparameters              {'max_depth': 9, 'n_estimators': 300}   \n",
       "F1                                                             0.835025   \n",
       "Accuracy                                                       0.884615   \n",
       "Precision                                                      0.891077   \n",
       "Recall                                                          0.86114   \n",
       "Confusion matrix      [[1, 0, 0, 0, 0, 0, 0, 0, 0, 0, 0, 0, 0, 0, 0,...   \n",
       "6                                                               8.75891   \n",
       "7                                                              0.033361   \n",
       "\n",
       "                                                      Gradient Boosting  \n",
       "Best hyperparameters          {'learning_rate': 0.3, 'n_estimators': 5}  \n",
       "F1                                                             0.716274  \n",
       "Accuracy                                                       0.742308  \n",
       "Precision                                                      0.807722  \n",
       "Recall                                                         0.724563  \n",
       "Confusion matrix      [[1, 0, 0, 0, 0, 0, 0, 0, 0, 0, 0, 0, 0, 0, 0,...  \n",
       "6                                                               93.7314  \n",
       "7                                                              0.031227  "
      ]
     },
     "metadata": {},
     "output_type": "display_data"
    }
   ],
   "source": [
    "#Compiling all the results into a Pandas DataFrame object and exporting it for maybe future use. \n",
    "#Uncomment the last line to export.\n",
    "\n",
    "df = pd.DataFrame(results, index =['Best hyperparameters',\n",
    "                                'F1',\n",
    "                                'Accuracy',\n",
    "                                'Precision',\n",
    "                                'Recall',\n",
    "                                'Confusion matrix'])\n",
    "df.loc[len(df.index)] = training\n",
    "df.loc[len(df.index)] = testing\n",
    "display(df)\n",
    "\n",
    "df.rename(index={\"6\":\"Training data (s)\"},inplace=True)\n",
    "df.rename(index={\"7\":\"Testing data (s)\"},inplace=True)\n",
    "#df.to_csv(\"preferred name.csv\")"
   ]
  },
  {
   "cell_type": "markdown",
   "metadata": {},
   "source": [
    "## Visualizing results"
   ]
  },
  {
   "cell_type": "markdown",
   "metadata": {},
   "source": [
    "### Display the dataframe as a table"
   ]
  },
  {
   "cell_type": "code",
   "execution_count": 21,
   "metadata": {
    "scrolled": false
   },
   "outputs": [
    {
     "data": {
      "text/html": [
       "<div>\n",
       "<style scoped>\n",
       "    .dataframe tbody tr th:only-of-type {\n",
       "        vertical-align: middle;\n",
       "    }\n",
       "\n",
       "    .dataframe tbody tr th {\n",
       "        vertical-align: top;\n",
       "    }\n",
       "\n",
       "    .dataframe thead th {\n",
       "        text-align: right;\n",
       "    }\n",
       "</style>\n",
       "<table border=\"1\" class=\"dataframe\">\n",
       "  <thead>\n",
       "    <tr style=\"text-align: right;\">\n",
       "      <th></th>\n",
       "      <th>Logistic Regression</th>\n",
       "      <th>kNNeighbor</th>\n",
       "      <th>SVC</th>\n",
       "      <th>LinearSVC</th>\n",
       "      <th>Random Forest</th>\n",
       "      <th>Gradient Boosting</th>\n",
       "    </tr>\n",
       "  </thead>\n",
       "  <tbody>\n",
       "    <tr>\n",
       "      <th>F1</th>\n",
       "      <td>0.86</td>\n",
       "      <td>0.77</td>\n",
       "      <td>0.90</td>\n",
       "      <td>0.84</td>\n",
       "      <td>0.84</td>\n",
       "      <td>0.72</td>\n",
       "    </tr>\n",
       "    <tr>\n",
       "      <th>Accuracy</th>\n",
       "      <td>0.92</td>\n",
       "      <td>0.85</td>\n",
       "      <td>0.93</td>\n",
       "      <td>0.91</td>\n",
       "      <td>0.88</td>\n",
       "      <td>0.74</td>\n",
       "    </tr>\n",
       "    <tr>\n",
       "      <th>Precision</th>\n",
       "      <td>0.93</td>\n",
       "      <td>0.90</td>\n",
       "      <td>0.94</td>\n",
       "      <td>0.92</td>\n",
       "      <td>0.89</td>\n",
       "      <td>0.81</td>\n",
       "    </tr>\n",
       "    <tr>\n",
       "      <th>Recall</th>\n",
       "      <td>0.87</td>\n",
       "      <td>0.80</td>\n",
       "      <td>0.91</td>\n",
       "      <td>0.86</td>\n",
       "      <td>0.86</td>\n",
       "      <td>0.72</td>\n",
       "    </tr>\n",
       "  </tbody>\n",
       "</table>\n",
       "</div>"
      ],
      "text/plain": [
       "           Logistic Regression  kNNeighbor   SVC  LinearSVC  Random Forest  \\\n",
       "F1                        0.86        0.77  0.90       0.84           0.84   \n",
       "Accuracy                  0.92        0.85  0.93       0.91           0.88   \n",
       "Precision                 0.93        0.90  0.94       0.92           0.89   \n",
       "Recall                    0.87        0.80  0.91       0.86           0.86   \n",
       "\n",
       "           Gradient Boosting  \n",
       "F1                      0.72  \n",
       "Accuracy                0.74  \n",
       "Precision               0.81  \n",
       "Recall                  0.72  "
      ]
     },
     "metadata": {},
     "output_type": "display_data"
    }
   ],
   "source": [
    "df = df.drop(['Confusion matrix','Best hyperparameters']) #get rid of not very perceivable parts of the dataframe\n",
    "df = df.astype(np.float) \n",
    "df = df.round(decimals = 2) #make numbers easier to perceive\n",
    "display(df)"
   ]
  },
  {
   "cell_type": "markdown",
   "metadata": {},
   "source": [
    "### The metrics as a heatmap"
   ]
  },
  {
   "cell_type": "code",
   "execution_count": 40,
   "metadata": {},
   "outputs": [
    {
     "data": {
      "image/png": "[encoded data removed]",
      "text/plain": [
       "<Figure size 648x432 with 2 Axes>"
      ]
     },
     "metadata": {},
     "output_type": "display_data"
    }
   ],
   "source": [
    "sns.set(font_scale=1.5) #controls the numeric labels within the heatmap\n",
    "plt.style.use(\"seaborn\")\n",
    "\n",
    "plt.figure(figsize=(9,6))\n",
    "heat_map = sns.heatmap(df, linewidth = 1 , annot = True, cmap=\"YlGnBu\")\n",
    "plt.xlabel('Model', fontsize=17);\n",
    "plt.ylabel('Metrics\\n', fontsize=17);\n",
    "plt.tick_params(axis='both', which='major', labelsize=14)\n",
    "plt.title( \"Metrics of performance of different models\\non the AMB scRNA-seq dataset\\n\", fontsize = 20)\n",
    "plt.show()"
   ]
  },
  {
   "cell_type": "markdown",
   "metadata": {},
   "source": [
    "### Ranking according to the training time"
   ]
  },
  {
   "cell_type": "code",
   "execution_count": 68,
   "metadata": {
    "scrolled": true
   },
   "outputs": [
    {
     "data": {
      "text/html": [
       "<div>\n",
       "<style scoped>\n",
       "    .dataframe tbody tr th:only-of-type {\n",
       "        vertical-align: middle;\n",
       "    }\n",
       "\n",
       "    .dataframe tbody tr th {\n",
       "        vertical-align: top;\n",
       "    }\n",
       "\n",
       "    .dataframe thead th {\n",
       "        text-align: right;\n",
       "    }\n",
       "</style>\n",
       "<table border=\"1\" class=\"dataframe\">\n",
       "  <thead>\n",
       "    <tr style=\"text-align: right;\">\n",
       "      <th></th>\n",
       "      <th>Training time (s)</th>\n",
       "      <th>Testing time (s)</th>\n",
       "    </tr>\n",
       "  </thead>\n",
       "  <tbody>\n",
       "    <tr>\n",
       "      <th>kNNeighbor</th>\n",
       "      <td>0.30</td>\n",
       "      <td>0.91</td>\n",
       "    </tr>\n",
       "    <tr>\n",
       "      <th>SVC</th>\n",
       "      <td>2.78</td>\n",
       "      <td>0.71</td>\n",
       "    </tr>\n",
       "    <tr>\n",
       "      <th>LinearSVC</th>\n",
       "      <td>5.44</td>\n",
       "      <td>0.00</td>\n",
       "    </tr>\n",
       "    <tr>\n",
       "      <th>Random Forest</th>\n",
       "      <td>8.76</td>\n",
       "      <td>0.03</td>\n",
       "    </tr>\n",
       "    <tr>\n",
       "      <th>Logistic Regression</th>\n",
       "      <td>19.40</td>\n",
       "      <td>0.02</td>\n",
       "    </tr>\n",
       "    <tr>\n",
       "      <th>Gradient Boosting</th>\n",
       "      <td>93.73</td>\n",
       "      <td>0.03</td>\n",
       "    </tr>\n",
       "  </tbody>\n",
       "</table>\n",
       "</div>"
      ],
      "text/plain": [
       "                     Training time (s)  Testing time (s)\n",
       "kNNeighbor                        0.30              0.91\n",
       "SVC                               2.78              0.71\n",
       "LinearSVC                         5.44              0.00\n",
       "Random Forest                     8.76              0.03\n",
       "Logistic Regression              19.40              0.02\n",
       "Gradient Boosting                93.73              0.03"
      ]
     },
     "metadata": {},
     "output_type": "display_data"
    }
   ],
   "source": [
    "#Visualizing the computational times as a sorted dataframe\n",
    "\n",
    "#Because the absolute values of the training time depend on many technical parameters maybe more than on the\n",
    "#model chosen only the relative performance of the algorithm on the same machine on the same software the same day\n",
    "#makes sense. Therefore it makes sense to display the ranking of the algorithms according to the training time.\n",
    "\n",
    "times = list(zip(training,testing))\n",
    "times_df = pd.DataFrame(times, columns = [\"Training time (s)\",\n",
    "                                          \"Testing time (s)\"],\n",
    "                        index = model_names)\n",
    "times_df = times_df.round(decimals = 2)\n",
    "times_df = times_df.sort_values(by = \"Training time (s)\")\n",
    "display(times_df)"
   ]
  }
 ],
 "metadata": {
  "kernelspec": {
   "display_name": "Python 3",
   "language": "python",
   "name": "python3"
  },
  "language_info": {
   "codemirror_mode": {
    "name": "ipython",
    "version": 3
   },
   "file_extension": ".py",
   "mimetype": "text/x-python",
   "name": "python",
   "nbconvert_exporter": "python",
   "pygments_lexer": "ipython3",
   "version": "3.8.5"
  }
 },
 "nbformat": 4,
 "nbformat_minor": 4
}
